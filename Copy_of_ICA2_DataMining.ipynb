{
  "cells": [
    {
      "cell_type": "markdown",
      "metadata": {
        "id": "view-in-github",
        "colab_type": "text"
      },
      "source": [
        "<a href=\"https://colab.research.google.com/github/stedua22/6372-Project-2/blob/main/Copy_of_ICA2_DataMining.ipynb\" target=\"_parent\"><img src=\"https://colab.research.google.com/assets/colab-badge.svg\" alt=\"Open In Colab\"/></a>"
      ]
    },
    {
      "cell_type": "markdown",
      "metadata": {
        "id": "ZZ9wGDdTZ1bl"
      },
      "source": [
        "\n",
        "**NAME:**\n",
        "(enter your name here)\n",
        "\n",
        "\n",
        "# In Class Assignment 2"
      ]
    },
    {
      "cell_type": "markdown",
      "metadata": {
        "id": "65tpU9sfZ1bp"
      },
      "source": [
        "### Loading the Classification Data\n",
        "Please run the following code to read in the \"digits\" dataset from sklearn's data loading module. This is identical to the first in class assignment for loading the data into matrices. `ds.data` is a matrix of feature values and `ds.target` is a column vector of the class output (in our case, the hand written digit we want to classify). Each class is a number (0 through 9) that we want to classify as one of ten hand written digits.\n",
        "\n"
      ]
    },
    {
      "cell_type": "code",
      "execution_count": 2,
      "metadata": {
        "id": "8uAw8HpZZ1bq",
        "outputId": "471c18ad-b33b-4fe6-9522-3fc35a8dedaf",
        "colab": {
          "base_uri": "https://localhost:8080/"
        }
      },
      "outputs": [
        {
          "output_type": "stream",
          "name": "stdout",
          "text": [
            "features shape: (1797, 64)\n",
            "target shape: (1797,)\n",
            "range of target: 0 9\n"
          ]
        }
      ],
      "source": [
        "from sklearn.datasets import load_digits\n",
        "import numpy as np\n",
        "from matplotlib import pyplot as plt\n",
        "import matplotlib.gridspec as gridspec\n",
        "%matplotlib inline\n",
        "\n",
        "ds = load_digits()\n",
        "\n",
        "# this holds the continuous feature data\n",
        "print('features shape:', ds.data.shape) # there are 1797 instances and 64 features per instance\n",
        "print('target shape:', ds.target.shape )\n",
        "print('range of target:', np.min(ds.target),np.max(ds.target))"
      ]
    },
    {
      "cell_type": "markdown",
      "metadata": {
        "id": "VgCqnZEYZ1br"
      },
      "source": [
        "### Using Decision Trees\n",
        "In the videos, we talked about the splitting conditions for different attributes. Specifically, we discussed the number of ways in which it is possible to split a node, depending on the attribute types. To understand the possible splits, we need to understand the attributes. For the question below, you might find the description in the `ds['DESCR']` field to be useful. You can see the field using `print(ds['DESCR'])`\n",
        "\n",
        "**Question 1:** For the digits dataset, what are the type(s) of the attributes? How many attributes are there? What do they represent?\n"
      ]
    },
    {
      "cell_type": "markdown",
      "metadata": {
        "id": "DbnBZ2_lZ1bs"
      },
      "source": [
        "**Answer:**\n",
        "\n",
        "The attributes are numerical, specifically integer values ranging from 0 to 9. There are 64 attribute. The attributes represent pixel intensity values of 8x8 images of handwritten digits. Each attribute corresponds to a specific pixel in the 8x8 grid."
      ]
    },
    {
      "cell_type": "code",
      "execution_count": 3,
      "metadata": {
        "id": "Km0Ocs8UZ1bs",
        "outputId": "a7881c4b-bfcb-4557-b200-b093bac29b8b",
        "colab": {
          "base_uri": "https://localhost:8080/"
        }
      },
      "outputs": [
        {
          "output_type": "stream",
          "name": "stdout",
          "text": [
            ".. _digits_dataset:\n",
            "\n",
            "Optical recognition of handwritten digits dataset\n",
            "--------------------------------------------------\n",
            "\n",
            "**Data Set Characteristics:**\n",
            "\n",
            "    :Number of Instances: 1797\n",
            "    :Number of Attributes: 64\n",
            "    :Attribute Information: 8x8 image of integer pixels in the range 0..16.\n",
            "    :Missing Attribute Values: None\n",
            "    :Creator: E. Alpaydin (alpaydin '@' boun.edu.tr)\n",
            "    :Date: July; 1998\n",
            "\n",
            "This is a copy of the test set of the UCI ML hand-written digits datasets\n",
            "https://archive.ics.uci.edu/ml/datasets/Optical+Recognition+of+Handwritten+Digits\n",
            "\n",
            "The data set contains images of hand-written digits: 10 classes where\n",
            "each class refers to a digit.\n",
            "\n",
            "Preprocessing programs made available by NIST were used to extract\n",
            "normalized bitmaps of handwritten digits from a preprinted form. From a\n",
            "total of 43 people, 30 contributed to the training set and different 13\n",
            "to the test set. 32x32 bitmaps are divided into nonoverlapping blocks of\n",
            "4x4 and the number of on pixels are counted in each block. This generates\n",
            "an input matrix of 8x8 where each element is an integer in the range\n",
            "0..16. This reduces dimensionality and gives invariance to small\n",
            "distortions.\n",
            "\n",
            "For info on NIST preprocessing routines, see M. D. Garris, J. L. Blue, G.\n",
            "T. Candela, D. L. Dimmick, J. Geist, P. J. Grother, S. A. Janet, and C.\n",
            "L. Wilson, NIST Form-Based Handprint Recognition System, NISTIR 5469,\n",
            "1994.\n",
            "\n",
            ".. topic:: References\n",
            "\n",
            "  - C. Kaynak (1995) Methods of Combining Multiple Classifiers and Their\n",
            "    Applications to Handwritten Digit Recognition, MSc Thesis, Institute of\n",
            "    Graduate Studies in Science and Engineering, Bogazici University.\n",
            "  - E. Alpaydin, C. Kaynak (1998) Cascading Classifiers, Kybernetika.\n",
            "  - Ken Tang and Ponnuthurai N. Suganthan and Xi Yao and A. Kai Qin.\n",
            "    Linear dimensionalityreduction using relevance weighted LDA. School of\n",
            "    Electrical and Electronic Engineering Nanyang Technological University.\n",
            "    2005.\n",
            "  - Claudio Gentile. A New Approximate Maximal Margin Classification\n",
            "    Algorithm. NIPS. 2000.\n",
            "\n"
          ]
        }
      ],
      "source": [
        "## Enter any code here\n",
        "print(ds['DESCR'])\n"
      ]
    },
    {
      "cell_type": "code",
      "execution_count": 4,
      "metadata": {
        "id": "N_0cfbqgZ1bt",
        "outputId": "e0698fbc-f5b1-4431-f6b7-56bb4f3e8d08",
        "colab": {
          "base_uri": "https://localhost:8080/",
          "height": 495
        }
      },
      "outputs": [
        {
          "output_type": "execute_result",
          "data": {
            "text/plain": [
              "Text(0.5, 0.98, 'Label is 6')"
            ]
          },
          "metadata": {},
          "execution_count": 4
        },
        {
          "output_type": "display_data",
          "data": {
            "text/plain": [
              "<Figure size 640x480 with 2 Axes>"
            ],
            "image/png": "[encoded data removed]"
          },
          "metadata": {}
        }
      ],
      "source": [
        "#get the vector data from a random position\n",
        "idx = np.random.randint(0,len(ds.target))\n",
        "raw_row = ds.data[idx] # as a vector\n",
        "img = ds.data[idx].reshape((8,8)) #reshaped to be an image\n",
        "\n",
        "#custom plotting tools\n",
        "gs = gridspec.GridSpec(4,2)\n",
        "\n",
        "plt.subplot(gs[0,:]) #show vector\n",
        "plt.imshow(np.matrix(raw_row), cmap=plt.cm.bone, interpolation='nearest')\n",
        "plt.title('Row vector')\n",
        "\n",
        "plt.subplot(gs[1:,:]) #show image\n",
        "plt.imshow(img, cmap=plt.cm.bone, interpolation='nearest')\n",
        "plt.title('Vector reshaped as an 8x8 image')\n",
        "\n",
        "plt.suptitle('Label is %d'%(ds.target[idx]))"
      ]
    },
    {
      "cell_type": "markdown",
      "metadata": {
        "id": "7PceESQaZ1bt"
      },
      "source": [
        "### Using the gini coefficient\n",
        "We talked about the gini index in the videos.  The Gini coefficient for a **given split** is given by:\n",
        "$$Gini=\\sum_{t=1}^T \\frac{n_t}{N}gini(t)$$\n",
        "where $T$ is the total number of splits (2 for binary attributes), $n_t$ is the number of instances in node $t$ after splitting, and $N$ is the total number of instances in the parent node. $gini(t)$ is the **gini index for each individual node that is created by the split** and is given by:\n",
        "$$gini(t)=1-\\sum_{j=0}^{C-1} p(j|t)^2$$\n",
        "where $C$ is the total number of possible classes and $p(j|t)$ is the probability of class $j$ in node $t$ (i.e., $n_j==$ the count of instances belonging to class $j$ in node $t$, normalized by the total number of instances in node $t$).\n",
        "$$ p(j|t) = \\frac{n_j}{n_t}$$\n",
        "\n",
        "For the given dataset, $gini(t)$ has been programmed for you in the function `gini_index`.\n",
        "\n",
        "* `def gini_index(classes_in_split):`\n",
        " * To use the function, pass in a `numpy` array of the class labels for a node as (i.e., pass in the rows from `ds.target` that make up a node in the tree) and the gini will be returned for that node.\n"
      ]
    },
    {
      "cell_type": "code",
      "execution_count": 5,
      "metadata": {
        "id": "G0jlPAQGZ1bt"
      },
      "outputs": [],
      "source": [
        "# compute the gini of several examples for the starting dataset\n",
        "# This function \"gini_index\" is written for you. Once you run this block, you\n",
        "#   will have access to the function for the notebook. You do not need to know\n",
        "#   how this function works--only what it returns\n",
        "# This function returns the gini index for an array of classes in a node.\n",
        "def gini_index(classes_in_split):\n",
        "    # pay no attention to this code in the function-- it just computes the gini for a given split\n",
        "    classes_in_split = np.reshape(classes_in_split,(len(classes_in_split),-1))\n",
        "    unique_classes = np.unique(classes_in_split)\n",
        "    gini = 1\n",
        "    for c in unique_classes:\n",
        "        gini -= (np.sum(classes_in_split==c) / float(len(classes_in_split)))**2\n",
        "\n",
        "    return gini"
      ]
    },
    {
      "cell_type": "markdown",
      "metadata": {
        "id": "y933-Ru5Z1bu"
      },
      "source": [
        "In the example below, the function is used calculate the gini for splitting the dataset on feature 28, with value 2.5. In this example, we need to create two separate tree nodes: the first node has all the `ds.target` labels when feature 28 is greater than 2.5, the second node has all the rows from `ds.target` where feature 28 is less than 2.5. The steps are outlined below. **Read this carefully to understand what the code does below in the block following this.**\n",
        "- Feature 28 is saved into a separate variable `feature28 = ds.data[:,28]`\n",
        "- First all the target classes for the first node are calculated using `numpy` indexing `ds.target[feature28>2.5]`\n",
        " - Note: this grabs all the rows in `ds.target` (the classes) which have feature 28 greater than 2.5 (similar to indexing in pandas)\n",
        "- Second, those classes are passed into the function to get the gini for the right node in this split (i.e., feature 28 being greater than the threshold 2.5).\n",
        " - `gini_r = gini_index(ds.target[feature28>2.5])`\n",
        "- Third, the gini is calculated for the left node in the tree. This grabs only the rows in `ds.target` where feature 28 is less than 2.5.\n",
        "     - `gini_l = gini_index(ds.target[feature28<=2.5])`\n",
        "- Combining the gini indices is left as an exercise in the next section"
      ]
    },
    {
      "cell_type": "code",
      "execution_count": 6,
      "metadata": {
        "id": "j074fOWUZ1bu",
        "outputId": "ebf2c09f-9012-45f8-c9b5-feb17005151a",
        "colab": {
          "base_uri": "https://localhost:8080/"
        }
      },
      "outputs": [
        {
          "output_type": "stream",
          "name": "stdout",
          "text": [
            "gini for right node of split: 0.8845857867667073\n",
            "gini for left node of split: 0.7115407566535388\n"
          ]
        }
      ],
      "source": [
        "#==========================Use the gini_index Example===============\n",
        "# get the value for this feature as a column vector\n",
        "# (this is like grabbing one column of the record table)\n",
        "feature28 = ds.data[:,28]\n",
        "\n",
        "# if we split on the value of 2.5, then this is the gini for each resulting node:\n",
        "gini_r = gini_index(ds.target[feature28>2.5]) # just like in pandas, we are sending in the rows where feature28>2.5\n",
        "gini_l = gini_index(ds.target[feature28<=2.5]) # and sending the rows where feature28<=2.5\n",
        "\n",
        "# compute gini example. This splits on attribute '28' with a value of 2.5\n",
        "print('gini for right node of split:', gini_r)\n",
        "print('gini for left node of split:', gini_l)"
      ]
    },
    {
      "cell_type": "markdown",
      "metadata": {
        "id": "EDWbJIJjZ1bu"
      },
      "source": [
        "Now, using the above values `gini_r` and `gini_l`. Calculate the combined Gini for the entire split. You will need to write the weighted summation (based upon the number of instances inside each node). To count the number of instances greater than a value using numpy, you can use broadcasting, which is a special way of indexing into a numpy array. For example, the code `some_array>5` will return a new numpy array of true/false elements. It is the same size as `some_array` and is marked true where the array is greater than `5`, and false otherwise. By taking the `sum` of this array, we can count how many times `some_array` is greater than `5`.\n",
        "\n",
        "`counts = sum(some_array>5)`\n",
        "\n",
        "You will need to use this syntax to count the values in each node as a result of splitting.  "
      ]
    },
    {
      "cell_type": "code",
      "execution_count": 7,
      "metadata": {
        "id": "D7ldmOV2Z1bu",
        "outputId": "36884acb-54c1-46f9-eb8a-ccc35eda66c1",
        "colab": {
          "base_uri": "https://localhost:8080/"
        }
      },
      "outputs": [
        {
          "output_type": "execute_result",
          "data": {
            "text/plain": [
              "1398.0"
            ]
          },
          "metadata": {},
          "execution_count": 7
        }
      ],
      "source": [
        "feature28 = ds.data[:,28]\n",
        "float(sum(feature28>2.5))"
      ]
    },
    {
      "cell_type": "code",
      "execution_count": 8,
      "metadata": {
        "id": "fl2O1zV9Z1bv",
        "outputId": "dbd14a93-02bb-4f80-a279-c0a4b8a27013",
        "colab": {
          "base_uri": "https://localhost:8080/"
        }
      },
      "outputs": [
        {
          "output_type": "stream",
          "name": "stdout",
          "text": [
            "The total gini of the split for a threshold of 2.5 is: 0.8461634345045179\n"
          ]
        }
      ],
      "source": [
        "# we need to make a weighted sum of the gini indices\n",
        "num_instances_r = float(sum(feature28>2.5))\n",
        "num_instances_l = float(sum(feature28<=2.5))\n",
        "N = float(len(ds.target))\n",
        "\n",
        "gini_total = (num_instances_r*gini_r + num_instances_l*gini_l) / N\n",
        "print('The total gini of the split for a threshold of 2.5 is:',gini_total)\n"
      ]
    },
    {
      "cell_type": "markdown",
      "metadata": {
        "id": "U2C8HEdpZ1bv"
      },
      "source": [
        "**Question 2:** Now we want to know which of the two is a better split:\n",
        "- `feature28` split on a value of `2.5`  \n",
        "- `feature28` split on a value of `10`\n",
        "\n",
        "Enter your code to find the total gini of splitting on the threshold of 10 and compare it to the total gini of splitting on threshold of 2.5 (for feature 28 only).\n",
        "\n",
        "According to Gini, which threshold is better for spliting on feature 28, `threshold=2.5` or `threshold=10.0`? Explain.\n",
        "\n",
        "**Answer:**\n",
        "\n",
        "The threshold of 10 is not better than the threshold of 2.5 because its greater."
      ]
    },
    {
      "cell_type": "code",
      "execution_count": 9,
      "metadata": {
        "id": "gqkOXGxEZ1bv",
        "outputId": "cd21d8a4-080b-4f6c-a955-d7a1be2fb78f",
        "colab": {
          "base_uri": "https://localhost:8080/"
        }
      },
      "outputs": [
        {
          "output_type": "stream",
          "name": "stdout",
          "text": [
            "gini for right node of split: 0.8737186870604284\n",
            "gini for left node of split: 0.8496295618768864\n",
            "The total gini of the split for a threshold of 10 is: 0.8636111743234274\n",
            "The threshold of 10 is not better than the threshold of 2.5\n"
          ]
        }
      ],
      "source": [
        "# Enter your code here\n",
        "\n",
        "# if we split on the value of 10, then this is the gini for each resulting node:\n",
        "gini_r10 = gini_index(ds.target[feature28>10.0]) # just like in pandas, we are sending in the rows where feature28>2.5\n",
        "gini_l10 = gini_index(ds.target[feature28<=10.0]) # and sending the rows where feature28<=10.0\n",
        "\n",
        "# compute gini example. This splits on attribute '28' with a value of 1.0\n",
        "print('gini for right node of split:', gini_r10)\n",
        "print('gini for left node of split:', gini_l10)\n",
        "\n",
        "feature28 = ds.data[:,28]\n",
        "float(sum(feature28>10.0))\n",
        "num_instances_r10 = float(sum(feature28>10.0))\n",
        "num_instances_l10 = float(sum(feature28<=10.0))\n",
        "N = float(len(ds.target\n",
        "               ))\n",
        "\n",
        "gini_total10 = (num_instances_r10*gini_r10 + num_instances_l10*gini_l10) / N\n",
        "print('The total gini of the split for a threshold of 10 is:',gini_total10)\n",
        "\n",
        "# Enter your code here\n",
        "print('The threshold of 10 is not better than the threshold of 2.5')\n"
      ]
    },
    {
      "cell_type": "markdown",
      "metadata": {
        "id": "o29EI5qxZ1bv"
      },
      "source": [
        "### Entropy based splitting\n",
        "We discussed entropy as well in the video as another means of splitting. We calculated entropy for a node $t$ by:\n",
        "$$ Entropy(t) = -\\sum p(j|t) \\log p(j|t) $$\n",
        "where $p(j|t)$ is the same as above. To combine Entropy measures from a set of nodes, t = {1,...,T} we use:\n",
        "$$Entropy_{split}=\\sum_{t=1}^T \\frac{n_t}{N}Entropy(t)$$\n",
        "where $n_t$ and $N$ are the same as defined above for the $Gini$. Information gain is calculated by subtracting the Entropy of the split from the Entropy of the parent node before splitting:\n",
        "$$InfoGain = Entropy(p)-Entropy_{split}$$\n",
        "where $p$ is the parent node before splitting. You are given an equation for calculating the $Entropy(t)$ of  node $t$. It works exactly like the `gini_index` function above, but is named `entropy_value` and returns the entropy for a node. You simply send in an array of the feature values for the node you want to calculate the entropy value for.\n"
      ]
    },
    {
      "cell_type": "code",
      "execution_count": 10,
      "metadata": {
        "id": "h3pIHjBmZ1bw"
      },
      "outputs": [],
      "source": [
        "def entropy_value(classes_in_split):\n",
        "    # pay no attention to this code -- it just computes the gini for a given split\n",
        "    classes_in_split = np.reshape(classes_in_split,(len(classes_in_split),-1))\n",
        "    unique_classes = np.unique(classes_in_split)\n",
        "    ent = 0\n",
        "    for c in unique_classes:\n",
        "        p = (np.sum(classes_in_split==c) / float(len(classes_in_split)))\n",
        "        ent += p * np.log(p)\n",
        "\n",
        "    return -ent"
      ]
    },
    {
      "cell_type": "code",
      "execution_count": 11,
      "metadata": {
        "id": "kbfIj-PJZ1bw",
        "outputId": "b2c31e0b-cca4-4114-a8b4-4fb78bd03fcf",
        "colab": {
          "base_uri": "https://localhost:8080/"
        }
      },
      "outputs": [
        {
          "output_type": "stream",
          "name": "stdout",
          "text": [
            "entropy for right node of split: 2.1836975378213057\n",
            "entropy for left node of split: 1.4898881412786364\n"
          ]
        }
      ],
      "source": [
        "ent_r = entropy_value(ds.target[feature28>2.5])\n",
        "ent_l = entropy_value(ds.target[feature28<=2.5])\n",
        "\n",
        "# compute entropy example. This splits on attribute '28' with a value of 2.5\n",
        "print('entropy for right node of split:', ent_r)\n",
        "print('entropy for left node of split:', ent_l)"
      ]
    },
    {
      "cell_type": "markdown",
      "metadata": {
        "id": "-QikDclvZ1bw"
      },
      "source": [
        "**Question 3:** Calculate the **information gain** of the split when the threshold is 2.5 on `feature28`. What is the value of the information gain?\n",
        "The information gain of the split for threshold of 2.5 is 0.27283285132716273"
      ]
    },
    {
      "cell_type": "code",
      "execution_count": 12,
      "metadata": {
        "id": "qKIN6f3wZ1bw",
        "outputId": "5bce72d0-ebcb-4622-81ea-2eafdbc016c0",
        "colab": {
          "base_uri": "https://localhost:8080/"
        }
      },
      "outputs": [
        {
          "output_type": "stream",
          "name": "stdout",
          "text": [
            "Entropy of parent node: 2.302479220967876\n",
            "Entropy for right node of split: 2.1836975378213057\n",
            "Entropy for left node of split: 1.4898881412786364\n",
            "Total entropy after split: 2.029646369640713\n",
            "Information gain of the split: 0.27283285132716273\n",
            "The information gain of the split for threshold of 2.5: 0.27283285132716273\n"
          ]
        }
      ],
      "source": [
        "# Enter your code here\n",
        "# Calculate the entropy for the parent node\n",
        "ent_parent = entropy_value(ds.target)\n",
        "\n",
        "\n",
        "# Number of instances in the right and left nodes\n",
        "num_instances_r = float(sum(feature28 > 2.5))\n",
        "num_instances_l = float(sum(feature28 <= 2.5))\n",
        "N = float(len(ds.target))\n",
        "\n",
        "# Calculate the total entropy after the split\n",
        "ent_total_split = (num_instances_r * ent_r + num_instances_l * ent_l) / N\n",
        "\n",
        "# Calculate the information gain\n",
        "info_gain = ent_parent - ent_total_split\n",
        "\n",
        "print(\"Entropy of parent node:\", ent_parent)\n",
        "print(\"Entropy for right node of split:\", ent_r)\n",
        "print(\"Entropy for left node of split:\", ent_l)\n",
        "print(\"Total entropy after split:\", ent_total_split)\n",
        "print(\"Information gain of the split:\", info_gain)\n",
        "\n",
        "\n",
        "\n",
        "# Enter your code here\n",
        "print('The information gain of the split for threshold of 2.5:', info_gain)\n"
      ]
    },
    {
      "cell_type": "markdown",
      "metadata": {
        "id": "Ew-JL7JkZ1bw"
      },
      "source": [
        "**Question 4:** What is the information gain if the threshold is 10.0 on `feature28`? According to information gain, is it better to split on a threshold of 2.5 or 10? Does entropy give the same decision as gini for this example?\n",
        "\n",
        "**Answer:** The information gain of the split for threshold of 10: 0.20955137704371163. This is not better than the split on 2.5. The Gini index also suggested that threshold 2.5 was a better split. Thus, entropy gives the same decision as Gini for this example."
      ]
    },
    {
      "cell_type": "code",
      "execution_count": 14,
      "metadata": {
        "id": "ZJOEoKw_Z1bx",
        "outputId": "714f6d5c-938c-464d-cce9-0ca10ca38969",
        "colab": {
          "base_uri": "https://localhost:8080/"
        }
      },
      "outputs": [
        {
          "output_type": "stream",
          "name": "stdout",
          "text": [
            "Entropy of parent node: 2.302479220967876\n",
            "Entropy for right node of split (threshold 10): 2.112391791714538\n",
            "Entropy for left node of split (threshold 10): 2.066003576622626\n",
            "Total entropy after split (threshold 10): 2.0929278439241643\n",
            "The information gain of the split for threshold of 10: 0.20955137704371163\n",
            "This is not better than the split on 2.5\n",
            "This is not the same as gini\n",
            "This (is/is not) the same as gini\n"
          ]
        }
      ],
      "source": [
        "# Enter your code here\n",
        "#Calculate the entropies for the right and left nodes of the split on feature 28 with threshold 10\n",
        "ent_r_10 = entropy_value(ds.target[feature28 > 10])\n",
        "ent_l_10 = entropy_value(ds.target[feature28 <= 10])\n",
        "\n",
        "# Number of instances in the right and left nodes\n",
        "num_instances_r_10 = float(sum(feature28 > 10))\n",
        "num_instances_l_10 = float(sum(feature28 <= 10))\n",
        "\n",
        "# Calculate the total entropy after the split\n",
        "ent_total_split_10 = (num_instances_r_10 * ent_r_10 + num_instances_l_10 * ent_l_10) / N\n",
        "\n",
        "# Calculate the information gain\n",
        "info_gain_10 = ent_parent - ent_total_split_10\n",
        "\n",
        "print(\"Entropy of parent node:\", ent_parent)\n",
        "print(\"Entropy for right node of split (threshold 10):\", ent_r_10)\n",
        "print(\"Entropy for left node of split (threshold 10):\", ent_l_10)\n",
        "print(\"Total entropy after split (threshold 10):\", ent_total_split_10)\n",
        "\n",
        "\n",
        "\n",
        "# Enter your code here\n",
        "\n",
        "print('The information gain of the split for threshold of 10:', info_gain_10)\n",
        "print('This is better than the split on 2.5') if info_gain_10 > info_gain else print('This is not better than the split on 2.5')\n",
        "print('This is the same as gini') if (info_gain_10 > info_gain and gini_total10 > gini_total) or (info_gain_10 < info_gain and gini_total10 < gini_total) else print('This is not the same as gini')\n"
      ]
    },
    {
      "cell_type": "markdown",
      "metadata": {
        "id": "1gF8mlnJZ1bx"
      },
      "source": [
        "### Information gain and multi-way splitting\n",
        "Now assume that we can use not just a binary split, but a three way split.\n",
        "\n",
        "**Question 5**: What is the information gain if we split feature28 on two thesholds (three separate nodes corresponding to three branches from one node)\n",
        "- node left: `feature28<2.5`,\n",
        "- node middle: `2.5<=feature28<10`, and\n",
        "- node right: `10<=feature28`?\n",
        "\n",
        "Is the information gain better?\n",
        "\n",
        "**Answer:** The information gain for the three-way split (0.3171890999123379) is higher than the information gain for both binary splits at thresholds 2.5 (0.27283285132716273) and 10 (0.20955137104371163).\n",
        "\n",
        "Therefore, the three-way split on feature 28 with thresholds at 2.5 and 10 provides better information gain compared to the binary splits. This indicates that the three-way split is more effective in reducing entropy and improving the classification performance in this case.\n",
        "\n",
        "\n",
        "***Note***: You can index into a `numpy` array for the middle node with the following notation: `some_array[(2.5<=feature28) & (feature28<10.0)]`"
      ]
    },
    {
      "cell_type": "code",
      "execution_count": 15,
      "metadata": {
        "id": "eXWcAOmdZ1bx",
        "outputId": "15fc52db-9040-42e5-8768-8f0a1571e6bd",
        "colab": {
          "base_uri": "https://localhost:8080/"
        }
      },
      "outputs": [
        {
          "output_type": "stream",
          "name": "stdout",
          "text": [
            "Entropy of parent node: 2.302479220967876\n",
            "Entropy for left node of split: 1.4898881412786364\n",
            "Entropy for middle node of split: 2.1558341564612853\n",
            "Entropy for right node of split: 2.118750287884169\n",
            "Total entropy after three-way split: 1.985290121055538\n",
            "Information gain of the three-way split: 0.3171890999123379\n"
          ]
        }
      ],
      "source": [
        "# Enter your code here\n",
        "# Calculate the entropies for the left, middle, and right nodes of the three-way split on feature 28 with thresholds 2.5 and 10\n",
        "ent_left = entropy_value(ds.target[feature28 < 2.5])\n",
        "ent_middle = entropy_value(ds.target[(2.5 <= feature28) & (feature28 < 10)])\n",
        "ent_right = entropy_value(ds.target[feature28 >= 10])\n",
        "\n",
        "# Number of instances in the left, middle, and right nodes\n",
        "num_instances_left = float(sum(feature28 < 2.5))\n",
        "num_instances_middle = float(sum((2.5 <= feature28) & (feature28 < 10)))\n",
        "num_instances_right = float(sum(feature28 >= 10))\n",
        "\n",
        "# Calculate the total entropy after the three-way split\n",
        "ent_total_split_three_way = (\n",
        "    (num_instances_left * ent_left +\n",
        "     num_instances_middle * ent_middle +\n",
        "     num_instances_right * ent_right) / N\n",
        ")\n",
        "\n",
        "# Calculate the information gain for the three-way split\n",
        "info_gain_three_way = ent_parent - ent_total_split_three_way\n",
        "\n",
        "\n",
        "\n",
        "# Enter your code here\n",
        "print(\"Entropy of parent node:\", ent_parent)\n",
        "print(\"Entropy for left node of split:\", ent_left)\n",
        "print(\"Entropy for middle node of split:\", ent_middle)\n",
        "print(\"Entropy for right node of split:\", ent_right)\n",
        "print(\"Total entropy after three-way split:\", ent_total_split_three_way)\n",
        "print(\"Information gain of the three-way split:\", info_gain_three_way)\n"
      ]
    },
    {
      "cell_type": "markdown",
      "metadata": {
        "id": "yh8DCXM8Z1bx"
      },
      "source": [
        "**Question 6**: Should we normalize the quantity that we just calculated if we want to compare it to the information gain of a binary split? Why or why not? Explain.\n",
        "\n",
        "**Answer:**"
      ]
    },
    {
      "cell_type": "code",
      "execution_count": 16,
      "metadata": {
        "id": "hh1_P-1YZ1bx"
      },
      "outputs": [],
      "source": [
        "# Enter your comments here\n",
        "Normalization would be required if the nature of the splits or the quantity being compared involved different scales or distributions that might otherwise distort the comparison.\n",
        "Normalization of the information gain is not necessary when comparing binary and multi-way splits on the same dataset. The information gain metric inherently adjusts for the distribution of instances among the child nodes, allowing for a fair comparison of the effectiveness of different splitting strategies.\n",
        "\n",
        "\n",
        "\n",
        "\n",
        "\n",
        "\n",
        "# Enter your comments here"
      ]
    },
    {
      "cell_type": "markdown",
      "metadata": {
        "id": "jwfPxlFEZ1bx"
      },
      "source": [
        "### Decision Trees in scikit-learn\n",
        "Scikit-learn also has an implementation of decision trees. Its available here:\n",
        "- http://scikit-learn.org/stable/modules/generated/sklearn.tree.DecisionTreeClassifier.html#sklearn.tree.DecisionTreeClassifier\n",
        "\n",
        "**Question 7**: Read the documention. What algorithm does scikit-learn use for creating decision trees (i.e., ID3, C4.5, C5.0, CART, MARS, CHAID, etc.)?\n",
        "\n",
        "**Answer:** scikit-learn uses the Classification and Regression Trees (CART) algorithm. The CART algorithm constructs binary trees using the feature and threshold that yield the largest information gain at each node​"
      ]
    },
    {
      "cell_type": "markdown",
      "metadata": {
        "id": "9zqryL3fZ1by"
      },
      "source": [
        "**Question 8**: Using the documentation, use scikit-learn to train a decision tree on the digits data. Calculate the accuracy on the training data. What is the accuracy? Did you expect the decision tree to have this kind of accuracy? Why or why not? Explain."
      ]
    },
    {
      "cell_type": "code",
      "execution_count": 21,
      "metadata": {
        "id": "iE0JullIZ1by",
        "outputId": "26382f2e-1818-4c2f-d58a-116f90f3528b",
        "colab": {
          "base_uri": "https://localhost:8080/"
        }
      },
      "outputs": [
        {
          "output_type": "stream",
          "name": "stdout",
          "text": [
            "accuracy: 1.0\n",
            "I did expect this kind of accuracy because decision trees tend to overfit on the training data, resulting in very high accuracy on the training set. However, this does not necessarily reflect the performance on unseen data.}\n"
          ]
        }
      ],
      "source": [
        "# use scikit learn to train a decision tree\n",
        "from sklearn.tree import DecisionTreeClassifier\n",
        "\n",
        "\n",
        "# enter your code below here to train and predict on the same data\n",
        "\n",
        "# Load the dataset\n",
        "digits = load_digits()\n",
        "X, y = ds.data, ds.target\n",
        "\n",
        "# Train the decision tree classifier\n",
        "clf = DecisionTreeClassifier(random_state=0)\n",
        "clf.fit(X, y)\n",
        "\n",
        "# Predict on the same data\n",
        "y_pred = clf.predict(X)\n",
        "\n",
        "# Calculate the accuracy\n",
        "accuracy = accuracy_score(y, y_pred)\n",
        "\n",
        "\n",
        "# enter your code above here\n",
        "\n",
        "from sklearn.metrics import accuracy_score\n",
        "\n",
        "# enter your code below here to calculate accuracy\n",
        "# Print the accuracy\n",
        "print('accuracy:', accuracy)\n",
        "\n",
        "print('I did expect this kind of accuracy because decision trees tend to overfit on the training data, resulting in very high accuracy on the training set. However, this does not necessarily reflect the performance on unseen data.}')\n",
        "# enter your code above here\n"
      ]
    },
    {
      "cell_type": "markdown",
      "metadata": {
        "id": "w7A7SeNjZ1by"
      },
      "source": [
        "**Question 9**: Look at the other input parameters to the function `DecisionTreeClassifier`-- could any of them be used to help prevent the decision tree from overlearning on the data?\n",
        "\n",
        "Which variables might we use to control overfitting and how (explain why it might help to stop overfitting)?\n",
        "\n",
        "**Answer:** We could use max_features: The number of features to consider when looking for the best split. If not specified, all features are considered.Using a subset of features can reduce the model's complexity and help prevent overfitting, especially if the data has many features.\n",
        "\n",
        "Using max_leaf_nodes limits the number of leaf nodes, simplifying the tree.\n",
        "\n",
        "Using these parameters helps to control the complexity of the decision tree, thereby reducing the risk of overfitting and improving the model's generalization to unseen data."
      ]
    },
    {
      "cell_type": "markdown",
      "metadata": {
        "id": "gYYqACRpZ1by"
      },
      "source": [
        "________________________________________________________________________________________________________\n",
        "\n",
        "That's all! Please **upload your rendered notebook** (.ipynb file!).\n",
        "Also please remember to save the notebook before uploading.\n",
        "\n",
        "\n",
        "\n",
        "Grading Schema:\n",
        "\n",
        "Q1: 5;\n",
        "\n",
        "Q2: 15;\n",
        "\n",
        "Q3: 10;\n",
        "\n",
        "Q4: 10;\n",
        "\n",
        "Q5: 10;\n",
        "\n",
        "Q6: 15\n",
        "\n",
        "Q7: 10\n",
        "\n",
        "Q8: 15\n",
        "\n",
        "Q9: 10"
      ]
    }
  ],
  "metadata": {
    "kernelspec": {
      "display_name": "Python 3",
      "language": "python",
      "name": "python3"
    },
    "language_info": {
      "codemirror_mode": {
        "name": "ipython",
        "version": 3
      },
      "file_extension": ".py",
      "mimetype": "text/x-python",
      "name": "python",
      "nbconvert_exporter": "python",
      "pygments_lexer": "ipython3",
      "version": "3.9.6"
    },
    "colab": {
      "provenance": [],
      "include_colab_link": true
    }
  },
  "nbformat": 4,
  "nbformat_minor": 0
}